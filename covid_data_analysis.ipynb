{
 "cells": [
  {
   "cell_type": "markdown",
   "metadata": {},
   "source": [
    "SOLOLEARN TASK\n",
    "\n",
    "COVID Data Analysis\n",
    "\n",
    "\n",
    "You are working with the COVID dataset for California, which includes the number of cases and deaths for each day of 2020.\n",
    "Find the day when the deaths/cases ratio was largest.\n",
    "\n",
    "To do this, you need to first calculate the deaths/cases ratio and add it as a column to the DataFrame with the name 'ratio', then find the row that corresponds to the largest value.\n"
   ]
  },
  {
   "cell_type": "code",
   "execution_count": null,
   "metadata": {},
   "outputs": [],
   "source": [
    "pip install pandas"
   ]
  },
  {
   "cell_type": "code",
   "execution_count": 21,
   "metadata": {},
   "outputs": [],
   "source": [
    "import pandas as pd  # import needed libraries"
   ]
  },
  {
   "cell_type": "code",
   "execution_count": 22,
   "metadata": {},
   "outputs": [
    {
     "name": "stdout",
     "output_type": "stream",
     "text": [
      "          cases  deaths\n",
      "date                   \n",
      "25.01.20      1       0\n",
      "26.01.20      1       0\n",
      "27.01.20      0       0\n",
      "28.01.20      0       0\n",
      "29.01.20      0       0\n",
      "...         ...     ...\n",
      "27.12.20  37555      62\n",
      "28.12.20  41720     246\n",
      "29.12.20  34166     425\n",
      "30.12.20  32386     437\n",
      "31.12.20  32264     574\n",
      "\n",
      "[342 rows x 2 columns]\n"
     ]
    }
   ],
   "source": [
    "df = pd.read_csv(\"https://www.sololearn.com/uploads/ca-covid.csv\") # Reading the provided cscv file\n",
    "\n",
    "df.drop(\"state\", axis=1, inplace=True)\n",
    "\n",
    "df.set_index('date', inplace=True)\n",
    "\n",
    "print(df)\n",
    "\n"
   ]
  },
  {
   "cell_type": "code",
   "execution_count": 23,
   "metadata": {},
   "outputs": [
    {
     "name": "stdout",
     "output_type": "stream",
     "text": [
      "This row has the highest death/cases ratio \n",
      "            cases  deaths     ratio\n",
      "date                             \n",
      "10.03.20      7       1  0.142857\n"
     ]
    }
   ],
   "source": [
    "df['ratio'] = df['deaths']/df['cases'] # Create a new column which is a result of the ratio of death to cases\n",
    "\n",
    "maximum_ratio = df['ratio'].max() # gets the maximum value in the ratio column\n",
    "\n",
    "print(\"This row has the highest death/cases ratio \\n \", \n",
    "df[(df['ratio']==maximum_ratio)]\n",
    ")\n",
    "\n",
    "# print(df.loc())"
   ]
  }
 ],
 "metadata": {
  "interpreter": {
   "hash": "776e7c35012c6450a385135f748ac2dd3972817eb3f814059e88cb2238e03f73"
  },
  "kernelspec": {
   "display_name": "Python 3.7.4 32-bit",
   "name": "python3"
  },
  "language_info": {
   "codemirror_mode": {
    "name": "ipython",
    "version": 3
   },
   "file_extension": ".py",
   "mimetype": "text/x-python",
   "name": "python",
   "nbconvert_exporter": "python",
   "pygments_lexer": "ipython3",
   "version": "3.7.4"
  },
  "orig_nbformat": 4
 },
 "nbformat": 4,
 "nbformat_minor": 2
}
