{
 "cells": [
  {
   "cell_type": "markdown",
   "metadata": {},
   "source": [
    "Data Science - Average of Rows\n",
    "\n",
    "\n",
    "In a matrix, or 2-d array X, the averages (or means) of the elements of rows is called row means.\n",
    "\n",
    "Task\n",
    "Given a 2D array, return the rowmeans.\n",
    "\n",
    "Input Format\n",
    "First line: two integers separated by spaces, the first indicates the rows of matrix X (n) and the second indicates the columns of X (p)\n",
    "Next n lines: values of the row in X\n",
    "\n",
    "Output Format\n",
    "An numpy 1d array of values rounded to the second decimal.\n",
    "\n",
    "2 2\n",
    "1.5 1\n",
    "2 2.9\n",
    "\n",
    "Sample Output\n",
    "[1.25 2.45]\n",
    "Explanation\n",
    "The first row has two numbers 1.5 and 1, thus the sum is 1.5 + 1 = 2.5 and the mean is then 2.5/2 = 1.25. Then for the second row, the average is calculated as (2 + 2.9)/2 = 4.9/2 = 2.45."
   ]
  },
  {
   "cell_type": "code",
   "execution_count": 12,
   "metadata": {},
   "outputs": [],
   "source": [
    "import numpy as np"
   ]
  },
  {
   "cell_type": "code",
   "execution_count": 16,
   "metadata": {},
   "outputs": [
    {
     "name": "stdout",
     "output_type": "stream",
     "text": [
      "[3. 3. 3.]\n"
     ]
    }
   ],
   "source": [
    "n, p = [int(x) for x in input().split()]\n",
    "\n",
    "list = [] # creating a list for inputing the data \n",
    "\n",
    "for i in range(n):\n",
    "    list.append(input().split()) # adding the inputs to the list and splitting them.\n",
    "\n",
    "array = np.array(list).astype(np.float16).mean(axis=1).round(2) # creating an array with the list and rounding the mean to two decimal places.\n",
    "\n",
    "print(array)"
   ]
  },
  {
   "cell_type": "markdown",
   "metadata": {},
   "source": [
    "DATE COMPLETED: April 6th, 2022. \n",
    "                1:02 AM"
   ]
  }
 ],
 "metadata": {
  "interpreter": {
   "hash": "776e7c35012c6450a385135f748ac2dd3972817eb3f814059e88cb2238e03f73"
  },
  "kernelspec": {
   "display_name": "Python 3.7.4 32-bit",
   "language": "python",
   "name": "python3"
  },
  "language_info": {
   "codemirror_mode": {
    "name": "ipython",
    "version": 3
   },
   "file_extension": ".py",
   "mimetype": "text/x-python",
   "name": "python",
   "nbconvert_exporter": "python",
   "pygments_lexer": "ipython3",
   "version": "3.7.4"
  },
  "orig_nbformat": 4
 },
 "nbformat": 4,
 "nbformat_minor": 2
}
