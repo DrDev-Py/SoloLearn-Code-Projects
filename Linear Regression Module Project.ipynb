{
 "cells": [
  {
   "cell_type": "markdown",
   "metadata": {},
   "source": [
    "Ordinary Squares\n",
    "Run\n",
    "Problem\n",
    "Data Science - Ordinary Squares\n",
    "\n",
    "\n",
    "Ordinary least squares for linear regression.\n",
    "\n",
    "Ordinary least squares (OLS) is a method to estimate the parameters β in a simple linear regression, Xβ = y, where X is the feature matrix and y is the dependent variable (or target), by minimizing the sum of the squares of the differences between the observed dependent variable in the given dataset and those predicted by the linear function. Mathematically, the solution is given by the formula in the image, where the superscript T means the transpose of a matrix, and the superscript -1 means it is an inverse of a matrix.\n",
    "\n",
    "Task\n",
    "Given a 2D array feature matrix X and a vector y, return the coefficient vector; see the formula.\n",
    "\n",
    "Input Format\n",
    "First line: two integers separated by spaces, the first indicates the rows of the feature matrix X (n) and the second indicates the columns of X (p)\n",
    "Next n lines: values of the row in the feature matrix\n",
    "Last line: p values of target y\n",
    "\n",
    "Output Format\n",
    "An numpy 1d array of values rounded to the second decimal.\n",
    "\n",
    "Sample Input\n",
    "2 2\n",
    "1 0\n",
    "0 2\n",
    "2 3\n",
    "\n",
    "Sample Output\n",
    "[2. , 1.5]\n",
    "Explanation\n",
    "The feature matrix X has n = 2 rows and p = 2 features. Following the OLS solution, substitute X by np.array([[1. 0.], [0. 2.]] and y by np.array([2. 3.]), respectively, performing the matrix multiplication using tools in numpy results in np.array([2. 1.5]).\n"
   ]
  },
  {
   "cell_type": "code",
   "execution_count": null,
   "metadata": {},
   "outputs": [],
   "source": [
    "import numpy as np\n",
    "\n",
    "n, p = [int(x) for x in input().split()]\n",
    "X = []\n",
    "for i in range(n):\n",
    "    X.append([float(x) for x in input().split()])\n",
    "\n",
    "y = [float(x) for x in input().split()]\n"
   ]
  },
  {
   "cell_type": "code",
   "execution_count": null,
   "metadata": {},
   "outputs": [],
   "source": [
    "X=np.array(X)\n",
    "\n",
    "xt=X.T\n",
    "x=xt.dot(X)\n",
    "\n",
    "xinv=np.linalg.inv(x) # Compute the (multiplicative) inverse of the matrix\n",
    "\n",
    "a=np.matmul(xt,y) # matrix product of array xt and array y\n",
    "a=np.matmul(a,xinv) # matrix product of array a and array xinv\n",
    "a=np.round(a,2) # set to 2 decimal places.\n",
    "\n",
    "print(a)"
   ]
  }
 ],
 "metadata": {
  "interpreter": {
   "hash": "948d73eb6dfda2e804d788ca8e9f193cc8a7762f6fd3fe59d9c3fe882d54f9f4"
  },
  "kernelspec": {
   "display_name": "Python 3.8.5 ('base')",
   "language": "python",
   "name": "python3"
  },
  "language_info": {
   "codemirror_mode": {
    "name": "ipython",
    "version": 3
   },
   "file_extension": ".py",
   "mimetype": "text/x-python",
   "name": "python",
   "nbconvert_exporter": "python",
   "pygments_lexer": "ipython3",
   "version": "3.8.5"
  },
  "orig_nbformat": 4
 },
 "nbformat": 4,
 "nbformat_minor": 2
}
