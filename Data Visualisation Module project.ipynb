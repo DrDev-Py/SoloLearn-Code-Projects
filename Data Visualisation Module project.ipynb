{
 "cells": [
  {
   "cell_type": "markdown",
   "metadata": {},
   "source": [
    "Data Science - Missing Numbers\n",
    "\n",
    "\n",
    "\n",
    "\n",
    "\n",
    "\n",
    "Imputing missing values.\n",
    "\n",
    "\n",
    "\n",
    "\n",
    "In the real world, you will often need to handle missing values. One way to impute (i.e., fill) the numerical column is to replace the null values with its mean.\n",
    "\n",
    "Task\n",
    "Given a list of numbers including some missing values, turn it into a pandas series, impute the missing values with the mean, and finally return the series.\n",
    "\n",
    "Input Format\n",
    "A list of numbers including one or more string \"nan\" to indicate a missing value.\n",
    "\n",
    "Output Format\n",
    "A list of imputed values where all values are rounded to its first decimal place.\n",
    "\n",
    "Sample Input\n",
    "3 4 5 3 4 4 nan\n",
    "\n",
    "Sample Output\n",
    "0 3.0\n",
    "1 4.0\n",
    "2 5.0\n",
    "3 3.0\n",
    "4 4.0\n",
    "5 4.0\n",
    "6 3.8\n",
    "dtype: float64\n",
    "\n",
    "\n",
    "\n",
    "\n",
    "\n",
    "\n",
    "\n",
    "Explanation\n",
    "The mean of 3, 4, 5, 3, 4, and 4 is 3.8, so we replace the missing value with the mean."
   ]
  },
  {
   "cell_type": "code",
   "execution_count": 31,
   "metadata": {},
   "outputs": [
    {
     "data": {
      "text/plain": [
       "0    3.0\n",
       "1    4.0\n",
       "2    5.0\n",
       "3    3.0\n",
       "4    4.0\n",
       "5    4.0\n",
       "6    NaN\n",
       "dtype: float64"
      ]
     },
     "execution_count": 31,
     "metadata": {},
     "output_type": "execute_result"
    }
   ],
   "source": [
    "import numpy as np\n",
    "import pandas as pd\n",
    "import re \n",
    "\n",
    "lst = [float(x) if x != 'nan' else np.NaN for x in input().split()]\n",
    "\n",
    "series = pd.Series(lst) # Creates a pandas series for the input data\n",
    "\n",
    "series"
   ]
  },
  {
   "cell_type": "code",
   "execution_count": null,
   "metadata": {},
   "outputs": [
    {
     "data": {
      "text/plain": [
       "0    1.0\n",
       "1    2.0\n",
       "2    3.0\n",
       "3    4.0\n",
       "4    5.0\n",
       "5    3.0\n",
       "dtype: float64"
      ]
     },
     "execution_count": 8,
     "metadata": {},
     "output_type": "execute_result"
    }
   ],
   "source": [
    "series = series.replace(np.nan, series.mean()).round(1) # replacing non numerical values in the series with the mean of the series\n",
    "                                                        # rounding off to one decimal place.\n",
    "series"
   ]
  }
 ],
 "metadata": {
  "interpreter": {
   "hash": "776e7c35012c6450a385135f748ac2dd3972817eb3f814059e88cb2238e03f73"
  },
  "kernelspec": {
   "display_name": "Python 3.7.4 32-bit",
   "language": "python",
   "name": "python3"
  },
  "language_info": {
   "codemirror_mode": {
    "name": "ipython",
    "version": 3
   },
   "file_extension": ".py",
   "mimetype": "text/x-python",
   "name": "python",
   "nbconvert_exporter": "python",
   "pygments_lexer": "ipython3",
   "version": "3.7.4"
  },
  "orig_nbformat": 4
 },
 "nbformat": 4,
 "nbformat_minor": 2
}
